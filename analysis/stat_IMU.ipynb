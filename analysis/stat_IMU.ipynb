{
 "cells": [
  {
   "cell_type": "code",
   "execution_count": 36,
   "metadata": {},
   "outputs": [
    {
     "name": "stdout",
     "output_type": "stream",
     "text": [
      "56\n",
      "['handheld', 'handheld', 'handheld', 'handheld', 'handheld', 'handheld', 'handheld', 'handheld', 'handheld', 'handheld', 'handheld', 'handheld', 'handheld', 'handheld', 'handheld', 'handheld', 'handheld', 'handheld', 'handheld', 'handheld', 'handheld', 'handheld', 'handheld', 'handheld', 'handbag', 'handbag', 'handbag', 'handbag', 'handbag', 'handbag', 'handbag', 'handbag', 'pocket', 'pocket', 'pocket', 'pocket', 'pocket', 'pocket', 'pocket', 'pocket', 'pocket', 'pocket', 'pocket', 'trolley', 'trolley', 'trolley', 'trolley', 'trolley', 'trolley', 'trolley', 'trolley', 'trolley', 'trolley', 'trolley', 'trolley', 'trolley'] ['imu1.csv', 'imu2.csv', 'imu3.csv', 'imu4.csv', 'imu5.csv', 'imu6.csv', 'imu7.csv', 'imu1.csv', 'imu2.csv', 'imu3.csv', 'imu1.csv', 'imu2.csv', 'imu3.csv', 'imu4.csv', 'imu5.csv', 'imu1.csv', 'imu2.csv', 'imu3.csv', 'imu4.csv', 'imu5.csv', 'imu1.csv', 'imu2.csv', 'imu3.csv', 'imu4.csv', 'imu1.csv', 'imu2.csv', 'imu3.csv', 'imu4.csv', 'imu1.csv', 'imu2.csv', 'imu3.csv', 'imu4.csv', 'imu1.csv', 'imu2.csv', 'imu3.csv', 'imu4.csv', 'imu5.csv', 'imu1.csv', 'imu2.csv', 'imu3.csv', 'imu4.csv', 'imu5.csv', 'imu6.csv', 'imu1.csv', 'imu2.csv', 'imu3.csv', 'imu4.csv', 'imu5.csv', 'imu6.csv', 'imu7.csv', 'imu1.csv', 'imu2.csv', 'imu3.csv', 'imu4.csv', 'imu5.csv', 'imu6.csv']\n"
     ]
    }
   ],
   "source": [
    "import h5py\n",
    "import pandas as pd\n",
    "import os.path as osp\n",
    "import numpy as np\n",
    "from mtools.plot_preamble import *\n",
    "from mtools import read_file, list_find, list_ind, list_con\n",
    "\n",
    "def load_data(h5_name):\n",
    "    y_lists = []\n",
    "    with h5py.File(h5_name, 'r') as f:\n",
    "        keys = list(f.keys())\n",
    "        for key in keys:\n",
    "            y_lists.append(np.copy(f[key]))\n",
    "        f.close()\n",
    "    return y_lists, keys\n",
    "domains = ['handheld', 'handbag', 'pocket', 'trolley']\n",
    "dfs = [load_data('labels/labels_%s.h5'%domain) for domain in domains]\n",
    "y_lists, keys = zip(*dfs)\n",
    "y_lists = list_con(y_lists)\n",
    "keys = list_con(keys)\n",
    "domains = [key.split('_')[0] for key in keys]\n",
    "folders = [key.split('_')[1] for key in keys]\n",
    "names = [key.split('_')[3] for key in keys]\n",
    "print(len(keys))\n",
    "print(domains, names)\n"
   ]
  },
  {
   "cell_type": "code",
   "execution_count": 37,
   "metadata": {},
   "outputs": [
    {
     "name": "stdout",
     "output_type": "stream",
     "text": [
      "      count   mean    std    min    25%    50%    75%    max  No   domains   data_name\n",
      "0 3718.0000 1.5429 0.1286 0.0273 1.4942 1.5525 1.6101 1.8073   0  handheld  data1_imu1\n",
      "0 2302.0000 1.4420 0.2596 0.0068 1.3597 1.4945 1.6085 1.7706   1  handheld  data1_imu2\n",
      "0 1842.0000 1.4696 0.2372 0.0058 1.3905 1.5180 1.6076 1.8295   2  handheld  data1_imu3\n",
      "0 2121.0000 1.4763 0.2305 0.0171 1.4148 1.5273 1.5995 1.7814   3  handheld  data1_imu4\n",
      "0 3173.0000 1.5628 0.2324 0.0074 1.4983 1.6084 1.6820 1.8986   4  handheld  data1_imu5\n",
      "0 3211.0000 1.5885 0.1762 0.3839 1.5162 1.6249 1.7042 1.9256   5  handheld  data1_imu6\n",
      "0 1367.0000 1.6165 0.1895 0.3371 1.5331 1.6564 1.7426 1.9446   6  handheld  data1_imu7\n",
      "0 3219.0000 1.6324 0.2185 0.0396 1.5590 1.6801 1.7690 1.9880   7  handheld  data2_imu1\n",
      "0 3075.0000 1.6020 0.3374 0.0004 1.5407 1.6730 1.7914 2.0716   8  handheld  data2_imu2\n",
      "0 2963.0000 1.5808 0.3334 0.0024 1.5360 1.6561 1.7541 2.0127   9  handheld  data2_imu3\n",
      "0 3033.0000 1.5547 0.2563 0.0115 1.4913 1.6052 1.6874 1.9895  10  handheld  data3_imu1\n",
      "0 3748.0000 1.5931 0.2895 0.0000 1.5285 1.6536 1.7460 1.9900  11  handheld  data3_imu2\n",
      "0 6044.0000 1.6556 0.2686 0.0004 1.5903 1.7060 1.8035 2.1156  12  handheld  data3_imu3\n",
      "0 5337.0000 1.6406 0.2972 0.0030 1.5436 1.7163 1.8193 2.0889  13  handheld  data3_imu4\n",
      "0 3790.0000 1.5794 0.3052 0.0026 1.4920 1.6424 1.7647 2.0610  14  handheld  data3_imu5\n",
      "0 3130.0000 1.4636 0.3152 0.0003 1.3506 1.5219 1.6597 1.9570  15  handheld  data4_imu1\n",
      "0 3180.0000 1.4541 0.2989 0.0020 1.3571 1.5277 1.6358 1.8545  16  handheld  data4_imu2\n",
      "0 6015.0000 1.4901 0.3001 0.0013 1.3660 1.5671 1.6916 1.9428  17  handheld  data4_imu3\n",
      "0 4341.0000 1.5598 0.2181 0.2742 1.4436 1.6050 1.7203 1.9833  18  handheld  data4_imu4\n",
      "0 3459.0000 1.5493 0.3200 0.0011 1.4321 1.6332 1.7483 1.9980  19  handheld  data4_imu5\n",
      "0 3061.0000 1.4524 0.3134 0.0011 1.3626 1.5294 1.6382 1.9137  20  handheld  data5_imu1\n",
      "0 5902.0000 1.4964 0.2834 0.0026 1.3984 1.5688 1.6781 1.8813  21  handheld  data5_imu2\n",
      "0 5555.0000 1.5202 0.2573 0.0002 1.4162 1.5642 1.6900 1.9347  22  handheld  data5_imu3\n",
      "0 3615.0000 1.6027 0.3011 0.0012 1.4868 1.6721 1.7858 2.0430  23  handheld  data5_imu4\n",
      "0 5707.0000 1.4409 0.3218 0.0029 1.2141 1.4386 1.7216 2.1577  24   handbag  data1_imu1\n",
      "0 5657.0000 1.5465 0.3573 0.0005 1.2827 1.6242 1.8360 2.3219  25   handbag  data1_imu2\n",
      "0 5757.0000 1.5124 0.3690 0.0017 1.2438 1.5660 1.8284 2.5381  26   handbag  data1_imu3\n",
      "0 4407.0000 1.5613 0.3583 0.0286 1.2819 1.6002 1.8876 2.2011  27   handbag  data1_imu4\n",
      "0 5707.0000 1.5944 0.3841 0.0008 1.3622 1.6952 1.8878 2.4507  28   handbag  data2_imu1\n",
      "0 5557.0000 1.6792 0.4063 0.0007 1.4379 1.7822 1.9884 2.3177  29   handbag  data2_imu2\n",
      "0 4207.0000 1.6942 0.3851 0.0053 1.4143 1.7711 2.0272 2.3695  30   handbag  data2_imu3\n",
      "0 3657.0000 1.6791 0.4200 0.0016 1.4181 1.7994 2.0062 2.3973  31   handbag  data2_imu4\n",
      "0 3259.0000 1.6436 0.3020 0.0004 1.6352 1.6988 1.7579 2.0226  32    pocket  data1_imu1\n",
      "0 4521.0000 1.5704 0.2895 0.0005 1.4646 1.6435 1.7480 2.0007  33    pocket  data1_imu2\n",
      "0 5020.0000 1.5079 0.3424 0.0009 1.4040 1.6059 1.7113 1.9454  34    pocket  data1_imu3\n",
      "0 4868.0000 1.4772 0.3096 0.0005 1.3475 1.5541 1.6860 1.9051  35    pocket  data1_imu4\n",
      "0 2362.0000 1.4364 0.3046 0.0138 1.2984 1.5234 1.6461 1.8556  36    pocket  data1_imu5\n",
      "0 6466.0000 1.4180 0.2489 0.0069 1.2785 1.4623 1.5872 1.9325  37    pocket  data2_imu1\n",
      "0 5548.0000 1.3917 0.2655 0.0058 1.2908 1.4631 1.5640 1.7752  38    pocket  data2_imu2\n",
      "0 6237.0000 1.2829 0.2780 0.0010 1.1663 1.3653 1.4612 1.7027  39    pocket  data2_imu3\n",
      "0 6642.0000 1.3952 0.2643 0.0012 1.3030 1.4677 1.5571 1.7895  40    pocket  data2_imu4\n",
      "0 4657.0000 1.4930 0.2811 0.0003 1.4220 1.5762 1.6572 1.8415  41    pocket  data2_imu5\n",
      "0 6186.0000 1.4956 0.2777 0.0002 1.4109 1.5782 1.6647 1.9093  42    pocket  data2_imu6\n",
      "0 4431.0000 1.0956 0.3355 0.0000 0.8614 1.1673 1.3594 1.6288  43   trolley  data1_imu1\n",
      "0 3047.0000 1.0724 0.3560 0.0000 0.8473 1.1417 1.3406 1.6652  44   trolley  data1_imu2\n",
      "0 3548.0000 1.1386 0.3635 0.0000 0.8965 1.2200 1.4290 1.7061  45   trolley  data1_imu3\n",
      "0 5946.0000 1.1714 0.3244 0.0000 0.9867 1.2237 1.4180 1.8356  46   trolley  data1_imu4\n",
      "0 6072.0000 1.1828 0.3122 0.0000 0.9763 1.2282 1.4227 1.9430  47   trolley  data1_imu5\n",
      "0 5820.0000 1.2558 0.3492 0.0000 1.0398 1.3127 1.5203 1.9812  48   trolley  data1_imu6\n",
      "0 2695.0000 1.2374 0.3891 0.0000 1.0849 1.3312 1.4968 1.8601  49   trolley  data1_imu7\n",
      "0 1519.0000 1.3572 0.2986 0.0078 1.1752 1.3927 1.5713 2.0106  50   trolley  data2_imu1\n",
      "0 1641.0000 1.3943 0.2654 0.0185 1.2569 1.4183 1.5866 1.8057  51   trolley  data2_imu2\n",
      "0 1565.0000 1.3971 0.3356 0.0001 1.2364 1.4438 1.6467 1.9091  52   trolley  data2_imu3\n",
      "0 1589.0000 1.3633 0.4182 0.0000 1.2167 1.4500 1.6422 2.0385  53   trolley  data2_imu4\n",
      "0 2127.0000 1.4174 0.3191 0.0037 1.2136 1.4326 1.6603 2.0964  54   trolley  data2_imu5\n",
      "0 2068.0000 1.4545 0.3281 0.0010 1.2722 1.4864 1.6876 2.0288  55   trolley  data2_imu6\n"
     ]
    }
   ],
   "source": [
    "rho_des = pd.concat([pd.DataFrame(y_list[:, 0]).describe().T for y_list in y_lists], axis=0)\n",
    "rho_des['No'] = range(len(domains))\n",
    "rho_des['domains'] = domains\n",
    "rho_des['data_name'] = ['%s_%s'%(folder, name[:-4]) for folder, name in zip(folders, names)]\n",
    "print(rho_des)"
   ]
  }
 ],
 "metadata": {
  "kernelspec": {
   "display_name": "base",
   "language": "python",
   "name": "python3"
  },
  "language_info": {
   "codemirror_mode": {
    "name": "ipython",
    "version": 3
   },
   "file_extension": ".py",
   "mimetype": "text/x-python",
   "name": "python",
   "nbconvert_exporter": "python",
   "pygments_lexer": "ipython3",
   "version": "3.8.8"
  }
 },
 "nbformat": 4,
 "nbformat_minor": 2
}
